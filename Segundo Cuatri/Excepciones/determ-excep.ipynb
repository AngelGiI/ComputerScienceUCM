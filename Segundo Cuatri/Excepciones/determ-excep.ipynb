{
 "cells": [
  {
   "cell_type": "markdown",
   "metadata": {},
   "source": [
    "Definiciones originales determinante recursivo sin excepciones"
   ]
  },
  {
   "cell_type": "code",
   "execution_count": 1,
   "metadata": {},
   "outputs": [],
   "source": [
    "\n",
    "def matriz_adjunta(m,i,j):\n",
    "    \"\"\"\n",
    "    devuelve la matriz que se obtiene de m eliminando la fila i y la columna j\n",
    "    0<=i< len(m), 0<=j<len(m[0])\n",
    "    \"\"\"\n",
    "    n_rows = len(m)\n",
    "    n_cols = len(m[0])\n",
    "    result = []\n",
    "    for row in range(n_rows):\n",
    "        if row!=i:\n",
    "            new_row = []\n",
    "            for col in range(n_cols):\n",
    "                if col != j:\n",
    "                    new_row.append(m[row][col])\n",
    "            result.append(new_row)\n",
    "    return result\n",
    "\n",
    "def det(m):\n",
    "    \"\"\"==\n",
    "    m es una matriz cuadrada\n",
    "    \"\"\"\n",
    "    n = len(m)\n",
    "    if n == 1:\n",
    "        return m[0][0]\n",
    "    else:\n",
    "        result = 0\n",
    "        sgn = 1\n",
    "        for j in range(len(m)):\n",
    "            result = result + sgn * m[0][j] * det(matriz_adjunta(m,0,j))\n",
    "            sgn = - sgn\n",
    "        return result"
   ]
  },
  {
   "cell_type": "markdown",
   "metadata": {},
   "source": [
    "Aunque no tenga efectos, aquí elimino la \"restricción\" de que `m` sea cuadrada"
   ]
  },
  {
   "cell_type": "code",
   "execution_count": 2,
   "metadata": {},
   "outputs": [],
   "source": [
    "def det(m): \n",
    "    n = len(m)\n",
    "    if n == 1:\n",
    "        return float(m[0][0])\n",
    "    else:\n",
    "        result = 0\n",
    "        sgn = 1\n",
    "        for j in range(len(m)):\n",
    "            result = result + sgn * m[0][j] * det(matriz_adjunta(m,0,j))\n",
    "            sgn = - sgn\n",
    "        return result"
   ]
  },
  {
   "cell_type": "code",
   "execution_count": 3,
   "metadata": {
    "scrolled": false
   },
   "outputs": [
    {
     "data": {
      "text/plain": [
       "5.0"
      ]
     },
     "execution_count": 3,
     "metadata": {},
     "output_type": "execute_result"
    }
   ],
   "source": [
    "det([[1,0,0],[0,1,0],[0,0,5]])"
   ]
  },
  {
   "cell_type": "markdown",
   "metadata": {},
   "source": [
    "Hago una llamada errónea que produce TypeError.      \n",
    "Capturo cualquier error e imprimo el mensaje.    \n",
    "Le ejecución prosigue, pero `res` \"vale\" `None`"
   ]
  },
  {
   "cell_type": "code",
   "execution_count": 4,
   "metadata": {
    "scrolled": false
   },
   "outputs": [
    {
     "name": "stdout",
     "output_type": "stream",
     "text": [
      "datos erróneos en matriz\n"
     ]
    }
   ],
   "source": [
    "try:\n",
    "    res=det([[1,0,0],[0,'a',0],[0,0,5]])\n",
    "except:\n",
    "    print('datos erróneos en matriz')"
   ]
  },
  {
   "cell_type": "code",
   "execution_count": 5,
   "metadata": {},
   "outputs": [
    {
     "ename": "NameError",
     "evalue": "name 'res' is not defined",
     "output_type": "error",
     "traceback": [
      "\u001b[1;31m---------------------------------------------------------------------------\u001b[0m",
      "\u001b[1;31mNameError\u001b[0m                                 Traceback (most recent call last)",
      "\u001b[1;32m<ipython-input-5-a90dea80f461>\u001b[0m in \u001b[0;36m<module>\u001b[1;34m\u001b[0m\n\u001b[1;32m----> 1\u001b[1;33m \u001b[0mprint\u001b[0m\u001b[1;33m(\u001b[0m\u001b[0mres\u001b[0m\u001b[1;33m)\u001b[0m\u001b[1;33m\u001b[0m\u001b[1;33m\u001b[0m\u001b[0m\n\u001b[0m",
      "\u001b[1;31mNameError\u001b[0m: name 'res' is not defined"
     ]
    }
   ],
   "source": [
    "print(res)"
   ]
  },
  {
   "cell_type": "markdown",
   "metadata": {},
   "source": [
    "Incorporo el manejador de excepciones al código de `det`"
   ]
  },
  {
   "cell_type": "code",
   "execution_count": 6,
   "metadata": {},
   "outputs": [],
   "source": [
    "def det(m):\n",
    "    try:\n",
    "        n = len(m)\n",
    "        if n == 1:\n",
    "            return float(m[0][0])\n",
    "        else:\n",
    "            result = 0\n",
    "            sgn = 1\n",
    "            for j in range(len(m)):  \n",
    "                result = result + sgn * m[0][j] * det(matriz_adjunta(m,0,j))  \n",
    "                sgn = - sgn\n",
    "            return result\n",
    "    except:\n",
    "        print('datos erróneos en matriz')\n",
    "        return None"
   ]
  },
  {
   "cell_type": "markdown",
   "metadata": {},
   "source": [
    "Observad que el mensaje sale varias veces por culpa de que `det`es recursivo.     \n",
    "Al final `res`sigue siendo `None`"
   ]
  },
  {
   "cell_type": "code",
   "execution_count": 7,
   "metadata": {
    "scrolled": true
   },
   "outputs": [
    {
     "name": "stdout",
     "output_type": "stream",
     "text": [
      "datos erróneos en matriz\n",
      "datos erróneos en matriz\n",
      "datos erróneos en matriz\n",
      "None\n"
     ]
    }
   ],
   "source": [
    "res=det([[1,0,0],[0,0,5],[0,'a',0]])\n",
    "print(res)"
   ]
  },
  {
   "cell_type": "code",
   "execution_count": 8,
   "metadata": {},
   "outputs": [
    {
     "name": "stdout",
     "output_type": "stream",
     "text": [
      "datos erróneos en matriz\n",
      "datos erróneos en matriz\n"
     ]
    }
   ],
   "source": [
    "det([[2,2,0,0],[0,2,'b',0],[0,0,5,0],[0,0,0,9]])"
   ]
  },
  {
   "cell_type": "code",
   "execution_count": 9,
   "metadata": {},
   "outputs": [
    {
     "name": "stdout",
     "output_type": "stream",
     "text": [
      "datos erróneos en matriz\n",
      "datos erróneos en matriz\n"
     ]
    }
   ],
   "source": [
    "det([[2,1],[0,'b']])"
   ]
  },
  {
   "cell_type": "code",
   "execution_count": 10,
   "metadata": {},
   "outputs": [
    {
     "name": "stdout",
     "output_type": "stream",
     "text": [
      "datos erróneos en matriz\n"
     ]
    }
   ],
   "source": [
    "det([['b']])"
   ]
  },
  {
   "cell_type": "markdown",
   "metadata": {},
   "source": [
    "Defino una `excepción`nueva `Mat_no_cuadrada`"
   ]
  },
  {
   "cell_type": "code",
   "execution_count": 11,
   "metadata": {},
   "outputs": [],
   "source": [
    "class Mat_no_cuadrada(Exception):\n",
    "    pass"
   ]
  },
  {
   "cell_type": "markdown",
   "metadata": {},
   "source": [
    "Incorporo su manejo en `det`"
   ]
  },
  {
   "cell_type": "code",
   "execution_count": 12,
   "metadata": {},
   "outputs": [],
   "source": [
    "def det(m):\n",
    "    try:\n",
    "        n = len(m)\n",
    "        if not (n==len(m[0])):\n",
    "            raise Mat_no_cuadrada\n",
    "        if n == 1:\n",
    "            return float(m[0][0])\n",
    "        else:\n",
    "            result = 0\n",
    "            sgn = 1\n",
    "            for j in range(len(m)):\n",
    "                result = result + sgn * m[0][j] * det(matriz_adjunta(m,0,j))\n",
    "                sgn = - sgn\n",
    "            return result\n",
    "    except Mat_no_cuadrada: \n",
    "        print('matriz no cuadrada')\n",
    "    except:\n",
    "        return None"
   ]
  },
  {
   "cell_type": "code",
   "execution_count": 13,
   "metadata": {
    "scrolled": true
   },
   "outputs": [
    {
     "data": {
      "text/plain": [
       "5.0"
      ]
     },
     "execution_count": 13,
     "metadata": {},
     "output_type": "execute_result"
    }
   ],
   "source": [
    "det([[1,0,0],[0,1,0],[0,0,5]])"
   ]
  },
  {
   "cell_type": "code",
   "execution_count": 14,
   "metadata": {
    "scrolled": true
   },
   "outputs": [
    {
     "name": "stdout",
     "output_type": "stream",
     "text": [
      "matriz no cuadrada\n",
      "None\n"
     ]
    }
   ],
   "source": [
    "res=det([[1,0],[0,1,0],[0,0,5]])\n",
    "print(res)"
   ]
  },
  {
   "cell_type": "markdown",
   "metadata": {},
   "source": [
    "El caso siguiente no estaba contemplado.    \n",
    "Sin embargo, se producen errores que he capturado con el segundo \"manejador\".    "
   ]
  },
  {
   "cell_type": "code",
   "execution_count": 15,
   "metadata": {
    "scrolled": true
   },
   "outputs": [
    {
     "name": "stdout",
     "output_type": "stream",
     "text": [
      "None\n"
     ]
    }
   ],
   "source": [
    "res=det([[1,0,1],[0,1],[0,0,5]])\n",
    "print(res)"
   ]
  },
  {
   "cell_type": "markdown",
   "metadata": {},
   "source": [
    "Corrijo el código mirando que todas las filas tengan tantos elementos como filas tenga `m`.    "
   ]
  },
  {
   "cell_type": "code",
   "execution_count": 16,
   "metadata": {},
   "outputs": [],
   "source": [
    "def det(m):\n",
    "    try:\n",
    "        n = len(m)\n",
    "        if not (n==len(m[0])):\n",
    "            raise Mat_no_cuadrada\n",
    "        if n == 1:\n",
    "            return float(m[0][0])\n",
    "        else:\n",
    "            result = 0\n",
    "            sgn = 1\n",
    "            for j in range(len(m)):\n",
    "                result = result + sgn * m[0][j] * det(matriz_adjunta(m,0,j))\n",
    "                sgn = - sgn\n",
    "            return result\n",
    "    except Mat_no_cuadrada: \n",
    "        print('matriz no cuadrada')\n",
    "    except:\n",
    "        return None"
   ]
  },
  {
   "cell_type": "markdown",
   "metadata": {},
   "source": [
    "Añado el parámetro `j` que me indica una fila (podría haber más detrás) errónea de `m`.    \n",
    "Pero no capturo el error `Mat_no_cuadrada` dejando que \"salga fuera\"."
   ]
  },
  {
   "cell_type": "code",
   "execution_count": 17,
   "metadata": {},
   "outputs": [],
   "source": [
    "def det(m):\n",
    "    try:\n",
    "        n = len(m)     \n",
    "        for j in range(len(m)):\n",
    "             if not (n==len(m[j])):\n",
    "                raise Mat_no_cuadrada(j)\n",
    "        if n == 1:\n",
    "            return float(m[0][0])\n",
    "        else:\n",
    "            result = 0\n",
    "            sgn = 1\n",
    "            for j in range(len(m)):\n",
    "                result = result + sgn * m[0][j] * det(matriz_adjunta(m,0,j))\n",
    "                sgn = - sgn\n",
    "            return result\n",
    "    except TypeError: \n",
    "        return None"
   ]
  },
  {
   "cell_type": "code",
   "execution_count": 18,
   "metadata": {
    "scrolled": true
   },
   "outputs": [
    {
     "name": "stdout",
     "output_type": "stream",
     "text": [
      "matriz no cuadrada\n"
     ]
    }
   ],
   "source": [
    "try:\n",
    "    det([[1,0],[0,1,0],[0,0,5]])\n",
    "except Mat_no_cuadrada:\n",
    "    print('matriz no cuadrada')"
   ]
  },
  {
   "cell_type": "code",
   "execution_count": 19,
   "metadata": {
    "scrolled": true
   },
   "outputs": [
    {
     "ename": "Mat_no_cuadrada",
     "evalue": "1",
     "output_type": "error",
     "traceback": [
      "\u001b[1;31m---------------------------------------------------------------------------\u001b[0m",
      "\u001b[1;31mMat_no_cuadrada\u001b[0m                           Traceback (most recent call last)",
      "\u001b[1;32m<ipython-input-19-4087fff0b0d4>\u001b[0m in \u001b[0;36m<module>\u001b[1;34m\u001b[0m\n\u001b[1;32m----> 1\u001b[1;33m \u001b[0mdet\u001b[0m\u001b[1;33m(\u001b[0m\u001b[1;33m[\u001b[0m\u001b[1;33m[\u001b[0m\u001b[1;36m1\u001b[0m\u001b[1;33m,\u001b[0m\u001b[1;36m0\u001b[0m\u001b[1;33m,\u001b[0m\u001b[1;36m0\u001b[0m\u001b[1;33m]\u001b[0m\u001b[1;33m,\u001b[0m\u001b[1;33m[\u001b[0m\u001b[1;36m0\u001b[0m\u001b[1;33m,\u001b[0m\u001b[1;36m1\u001b[0m\u001b[1;33m]\u001b[0m\u001b[1;33m,\u001b[0m\u001b[1;33m[\u001b[0m\u001b[1;36m0\u001b[0m\u001b[1;33m,\u001b[0m\u001b[1;36m0\u001b[0m\u001b[1;33m,\u001b[0m\u001b[1;36m5\u001b[0m\u001b[1;33m]\u001b[0m\u001b[1;33m]\u001b[0m\u001b[1;33m)\u001b[0m\u001b[1;33m\u001b[0m\u001b[1;33m\u001b[0m\u001b[0m\n\u001b[0m",
      "\u001b[1;32m<ipython-input-17-ff147250c509>\u001b[0m in \u001b[0;36mdet\u001b[1;34m(m)\u001b[0m\n\u001b[0;32m      4\u001b[0m         \u001b[1;32mfor\u001b[0m \u001b[0mj\u001b[0m \u001b[1;32min\u001b[0m \u001b[0mrange\u001b[0m\u001b[1;33m(\u001b[0m\u001b[0mlen\u001b[0m\u001b[1;33m(\u001b[0m\u001b[0mm\u001b[0m\u001b[1;33m)\u001b[0m\u001b[1;33m)\u001b[0m\u001b[1;33m:\u001b[0m\u001b[1;33m\u001b[0m\u001b[1;33m\u001b[0m\u001b[0m\n\u001b[0;32m      5\u001b[0m              \u001b[1;32mif\u001b[0m \u001b[1;32mnot\u001b[0m \u001b[1;33m(\u001b[0m\u001b[0mn\u001b[0m\u001b[1;33m==\u001b[0m\u001b[0mlen\u001b[0m\u001b[1;33m(\u001b[0m\u001b[0mm\u001b[0m\u001b[1;33m[\u001b[0m\u001b[0mj\u001b[0m\u001b[1;33m]\u001b[0m\u001b[1;33m)\u001b[0m\u001b[1;33m)\u001b[0m\u001b[1;33m:\u001b[0m\u001b[1;33m\u001b[0m\u001b[1;33m\u001b[0m\u001b[0m\n\u001b[1;32m----> 6\u001b[1;33m                 \u001b[1;32mraise\u001b[0m \u001b[0mMat_no_cuadrada\u001b[0m\u001b[1;33m(\u001b[0m\u001b[0mj\u001b[0m\u001b[1;33m)\u001b[0m\u001b[1;33m\u001b[0m\u001b[1;33m\u001b[0m\u001b[0m\n\u001b[0m\u001b[0;32m      7\u001b[0m         \u001b[1;32mif\u001b[0m \u001b[0mn\u001b[0m \u001b[1;33m==\u001b[0m \u001b[1;36m1\u001b[0m\u001b[1;33m:\u001b[0m\u001b[1;33m\u001b[0m\u001b[1;33m\u001b[0m\u001b[0m\n\u001b[0;32m      8\u001b[0m             \u001b[1;32mreturn\u001b[0m \u001b[0mfloat\u001b[0m\u001b[1;33m(\u001b[0m\u001b[0mm\u001b[0m\u001b[1;33m[\u001b[0m\u001b[1;36m0\u001b[0m\u001b[1;33m]\u001b[0m\u001b[1;33m[\u001b[0m\u001b[1;36m0\u001b[0m\u001b[1;33m]\u001b[0m\u001b[1;33m)\u001b[0m\u001b[1;33m\u001b[0m\u001b[1;33m\u001b[0m\u001b[0m\n",
      "\u001b[1;31mMat_no_cuadrada\u001b[0m: 1"
     ]
    }
   ],
   "source": [
    "det([[1,0,0],[0,1],[0,0,5]])"
   ]
  },
  {
   "cell_type": "markdown",
   "metadata": {},
   "source": [
    "Capturo otra vez `Mat_no_cuadrada` en `det`usando el parámetro `j`"
   ]
  },
  {
   "cell_type": "code",
   "execution_count": 20,
   "metadata": {},
   "outputs": [],
   "source": [
    "def det(m):\n",
    "    try:\n",
    "        n = len(m)     \n",
    "        for j in range(len(m)):\n",
    "             if not (n==len(m[j])):\n",
    "                raise Mat_no_cuadrada(j)\n",
    "        if n == 1:\n",
    "            return float(m[0][0])\n",
    "        else:\n",
    "            result = 0\n",
    "            sgn = 1\n",
    "            for j in range(len(m)):\n",
    "                result = result + sgn * m[0][j] * det(matriz_adjunta(m,0,j))\n",
    "                sgn = - sgn\n",
    "            return result\n",
    "    except Mat_no_cuadrada as j: \n",
    "        print('matriz no cuadrada por culpa de la fila:',j)\n",
    "    except:\n",
    "        return None"
   ]
  },
  {
   "cell_type": "code",
   "execution_count": 21,
   "metadata": {
    "scrolled": true
   },
   "outputs": [
    {
     "name": "stdout",
     "output_type": "stream",
     "text": [
      "matriz no cuadrada por culpa de la fila: 1\n"
     ]
    }
   ],
   "source": [
    "det([[1,0,0],[0,1],[0,0,5]])"
   ]
  },
  {
   "cell_type": "markdown",
   "metadata": {},
   "source": [
    "Aquí tenéis la implementación recursiva de `det` usando dirtectamente \"trozos\" de `m`, sin copiar los adjuntos.     "
   ]
  },
  {
   "cell_type": "code",
   "execution_count": 22,
   "metadata": {},
   "outputs": [],
   "source": [
    "\n",
    "def matriz_adjunta(m,i,j):\n",
    "    \"\"\"\n",
    "    devuelve la matriz que se obtiene de m eliminando la fila i y la columna j\n",
    "    0<=i< len(m), 0<=j<len(m[0])\n",
    "    \"\"\"\n",
    "    n_rows = len(m)\n",
    "    n_cols = len(m[0])\n",
    "    result = []\n",
    "    for row in range(n_rows):\n",
    "        if row!=i:\n",
    "            new_row = []\n",
    "            for col in range(n_cols):\n",
    "                if col != j:\n",
    "                    new_row.append(m[row][col])\n",
    "            result.append(new_row)\n",
    "    return result\n",
    "\n",
    "\n",
    "\n",
    "def det_trozo(m,lf,lc):\n",
    "    if len(lf)== 1:\n",
    "        return m[lf[0]][lc[0]]\n",
    "    else:\n",
    "        result = 0\n",
    "        sgn = 1\n",
    "        nlf=lf[1:]\n",
    "        for j in range(len(lc)):\n",
    "            nlc=lc[:]\n",
    "            nlc.pop(j)\n",
    "            result = result + sgn * m[lf[0]][lc[j]] * det_trozo(m,nlf,nlc)\n",
    "            sgn = - sgn\n",
    "        return result\n",
    "    \n",
    "def det(m):\n",
    "    \"\"\"==\n",
    "    m es una matriz cuadrada\n",
    "    \"\"\"\n",
    "    n = len(m)\n",
    "    lf=[]\n",
    "    for j in range(len(m)):\n",
    "        lf.append(j)\n",
    "    return det_trozo(m,lf,lf)"
   ]
  },
  {
   "cell_type": "code",
   "execution_count": 23,
   "metadata": {},
   "outputs": [
    {
     "data": {
      "text/plain": [
       "180"
      ]
     },
     "execution_count": 23,
     "metadata": {},
     "output_type": "execute_result"
    }
   ],
   "source": [
    "det([[2,2,0,0],[0,2,0,0],[0,0,5,0],[0,0,0,9]])"
   ]
  },
  {
   "cell_type": "code",
   "execution_count": 24,
   "metadata": {},
   "outputs": [
    {
     "data": {
      "text/plain": [
       "-45"
      ]
     },
     "execution_count": 24,
     "metadata": {},
     "output_type": "execute_result"
    }
   ],
   "source": [
    "det([[0,5],[9,3]])"
   ]
  },
  {
   "cell_type": "markdown",
   "metadata": {},
   "source": [
    "Os dejo aquí una copia para que añadáis vosotros la detección y tratamiento de errores      \n",
    "a imagen y semejanza de lo hecho arriba con la implementación que copia los adjuntos."
   ]
  },
  {
   "cell_type": "code",
   "execution_count": 25,
   "metadata": {},
   "outputs": [],
   "source": [
    "\n",
    "def matriz_adjunta(m,i,j):\n",
    "    \"\"\"\n",
    "    devuelve la matriz que se obtiene de m eliminando la fila i y la columna j\n",
    "    0<=i< len(m), 0<=j<len(m[0])\n",
    "    \"\"\"\n",
    "    n_rows = len(m)\n",
    "    n_cols = len(m[0])\n",
    "    result = []\n",
    "    for row in range(n_rows):\n",
    "        if row!=i:\n",
    "            new_row = []\n",
    "            for col in range(n_cols):\n",
    "                if col != j:\n",
    "                    new_row.append(m[row][col])\n",
    "            result.append(new_row)\n",
    "    return result\n",
    "\n",
    "def det_trozo(m,lf,lc):\n",
    "    if len(lf)== 1:\n",
    "        return m[lf[0]][lc[0]]\n",
    "    else:\n",
    "        result = 0\n",
    "        sgn = 1\n",
    "        nlf=lf[1:]\n",
    "        for j in range(len(lc)):\n",
    "            nlc=lc[:j]+lc[j+1:]\n",
    "            result = result + sgn * m[lf[0]][lc[j]] * det_trozo(m,nlf,nlc)\n",
    "            sgn = - sgn\n",
    "        return result\n",
    "    \n",
    "def det(m):\n",
    "    \"\"\"==\n",
    "    m es una matriz cuadrada\n",
    "    \"\"\"\n",
    "    n = len(m)\n",
    "    lf=[]\n",
    "    for j in range(len(m)):\n",
    "        lf.append(j)\n",
    "    return det_trozo(m,lf,lf)"
   ]
  },
  {
   "cell_type": "code",
   "execution_count": null,
   "metadata": {},
   "outputs": [],
   "source": []
  }
 ],
 "metadata": {
  "kernelspec": {
   "display_name": "Python 3",
   "language": "python",
   "name": "python3"
  },
  "language_info": {
   "codemirror_mode": {
    "name": "ipython",
    "version": 3
   },
   "file_extension": ".py",
   "mimetype": "text/x-python",
   "name": "python",
   "nbconvert_exporter": "python",
   "pygments_lexer": "ipython3",
   "version": "3.7.3"
  }
 },
 "nbformat": 4,
 "nbformat_minor": 4
}
