{
 "cells": [
  {
   "cell_type": "markdown",
   "metadata": {},
   "source": [
    "# Laboratorio de Combinatoria "
   ]
  },
  {
   "cell_type": "markdown",
   "metadata": {},
   "source": [
    "### Generación de combinaciones"
   ]
  },
  {
   "cell_type": "markdown",
   "metadata": {},
   "source": [
    "Combinaciones Recursivo sin detectar final"
   ]
  },
  {
   "cell_type": "code",
   "execution_count": 1,
   "metadata": {
    "scrolled": true
   },
   "outputs": [],
   "source": [
    "def comb_rec(m,n,pre,desde,l):\n",
    "    if n==0:\n",
    "        l.append(pre)\n",
    "    else:\n",
    "        for a in range(desde,m+1):\n",
    "            prenuevo=pre+[a]\n",
    "            comb_rec(m,n-1,prenuevo,a+1,l)"
   ]
  },
  {
   "cell_type": "code",
   "execution_count": 2,
   "metadata": {},
   "outputs": [
    {
     "name": "stdout",
     "output_type": "stream",
     "text": [
      "[[1, 2, 3], [1, 2, 4], [1, 2, 5], [1, 3, 4], [1, 3, 5], [1, 4, 5], [2, 3, 4], [2, 3, 5], [2, 4, 5], [3, 4, 5]]\n"
     ]
    }
   ],
   "source": [
    "l=[]\n",
    "comb_rec(5,3,[],1,l)\n",
    "print(l)"
   ]
  },
  {
   "cell_type": "markdown",
   "metadata": {},
   "source": [
    "Función preámbulo para generar la llamada externa para calcular las combinaciones"
   ]
  },
  {
   "cell_type": "code",
   "execution_count": 3,
   "metadata": {},
   "outputs": [],
   "source": [
    "def comb_rec_ext(m,n):\n",
    "    l=[]\n",
    "    comb_rec(m,n,[],1,l)"
   ]
  },
  {
   "cell_type": "code",
   "execution_count": 4,
   "metadata": {},
   "outputs": [
    {
     "name": "stdout",
     "output_type": "stream",
     "text": [
      "[[1, 2, 3], [1, 2, 4], [1, 2, 5], [1, 3, 4], [1, 3, 5], [1, 4, 5], [2, 3, 4], [2, 3, 5], [2, 4, 5], [3, 4, 5]]\n"
     ]
    }
   ],
   "source": [
    "comb_rec_ext(5,3)\n",
    "print(l)"
   ]
  },
  {
   "cell_type": "markdown",
   "metadata": {},
   "source": [
    "Versión modificada que no genera `prenuevo` al extender `pre`, sino que se extiende `pre`   \n",
    "y después de la llamada recursiva se recupera el valor de `pre` antes de extenderlo,   \n",
    "simplemente aplicandole `pop` a `pre`"
   ]
  },
  {
   "cell_type": "code",
   "execution_count": 5,
   "metadata": {
    "scrolled": true
   },
   "outputs": [],
   "source": [
    "def comb_rec2(m,n,pre,desde,l):\n",
    "    if n==0:\n",
    "        l.append(pre)   # Cambiar a l.append(pre[:]) si se hace el cambio de abajo\n",
    "    else:\n",
    "        for a in range(desde,m+1):\n",
    "            pre=pre+[a]  # Equivalentemente podemos hacer pre.append(a) si arriba se\n",
    "                         # hace el cambio indicado\n",
    "            comb_rec(m,n-1,pre,a+1,l)\n",
    "            pre.pop()"
   ]
  },
  {
   "cell_type": "code",
   "execution_count": 6,
   "metadata": {},
   "outputs": [
    {
     "name": "stdout",
     "output_type": "stream",
     "text": [
      "[[1, 2, 3], [1, 2, 4], [1, 2, 5], [1, 3, 4], [1, 3, 5], [1, 4, 5], [2, 3, 4], [2, 3, 5], [2, 4, 5], [3, 4, 5]]\n"
     ]
    }
   ],
   "source": [
    "l=[]\n",
    "comb_rec2(5,3,[],1,l)\n",
    "print(l)"
   ]
  },
  {
   "cell_type": "markdown",
   "metadata": {},
   "source": [
    "Versión cambiada que además detecta el valor máximo de cada elemento de `pre`"
   ]
  },
  {
   "cell_type": "code",
   "execution_count": 7,
   "metadata": {
    "scrolled": true
   },
   "outputs": [],
   "source": [
    "def comb_rec3(m,n,pre,desde,l):\n",
    "    if n==0:\n",
    "        l.append(pre[:])  \n",
    "    else:\n",
    "        for a in range(desde,m-n+2): # Observad que el i-esimo elemento de pre se genera\n",
    "                            # con n igual al valor inicial de n menos (i-1)\n",
    "                            # su valor máximo es entonces m-n+1\n",
    "                            # p.e. para m=5 y n=3 el segundo elemento de pre,  pre[1]\n",
    "                            # se genera con n=2 y por tanto su valor máximo es 5-2+1=4\n",
    "            pre.append(a)                        \n",
    "            comb_rec(m,n-1,pre,a+1,l)\n",
    "            pre.pop()"
   ]
  },
  {
   "cell_type": "code",
   "execution_count": 8,
   "metadata": {
    "scrolled": true
   },
   "outputs": [
    {
     "name": "stdout",
     "output_type": "stream",
     "text": [
      "[[1, 2, 3], [1, 2, 4], [1, 2, 5], [1, 3, 4], [1, 3, 5], [1, 4, 5], [2, 3, 4], [2, 3, 5], [2, 4, 5], [3, 4, 5]]\n"
     ]
    }
   ],
   "source": [
    "l=[]\n",
    "comb_rec3(5,3,[],1,l)\n",
    "print(l)"
   ]
  },
  {
   "cell_type": "markdown",
   "metadata": {},
   "source": [
    "Combinaciones Iterativo sin detectar final"
   ]
  },
  {
   "cell_type": "code",
   "execution_count": 9,
   "metadata": {
    "scrolled": true
   },
   "outputs": [],
   "source": [
    "def comb_iter(m,n):\n",
    "    l=[]\n",
    "    pre=[1]\n",
    "    while pre!=[]:\n",
    "        if len(pre)==n:\n",
    "            l.append(pre[:])   # copiamos pre para que luego no se pueda modificar el\n",
    "                               # valor añadido a la lista\n",
    "            if pre[n-1] < m:\n",
    "                pre[n-1]+=1\n",
    "            else:          \n",
    "                pre.pop()      \n",
    "                if  pre!=[]:\n",
    "                    pre[-1]+=1\n",
    "        else:   \n",
    "            if pre[-1]==m:\n",
    "                pre.pop()\n",
    "                if pre!=[]:\n",
    "                    pre[-1]+=1               \n",
    "            else:\n",
    "                pre.append(pre[-1]+1)\n",
    "    return(l)     "
   ]
  },
  {
   "cell_type": "code",
   "execution_count": 10,
   "metadata": {},
   "outputs": [
    {
     "name": "stdout",
     "output_type": "stream",
     "text": [
      "[[1, 2, 3], [1, 2, 4], [1, 2, 5], [1, 3, 4], [1, 3, 5], [1, 4, 5], [2, 3, 4], [2, 3, 5], [2, 4, 5], [3, 4, 5]]\n"
     ]
    }
   ],
   "source": [
    "print(comb_iter(5,3))"
   ]
  },
  {
   "cell_type": "markdown",
   "metadata": {},
   "source": [
    "Combinaciones Iterativo detectando el final"
   ]
  },
  {
   "cell_type": "code",
   "execution_count": 11,
   "metadata": {
    "scrolled": true
   },
   "outputs": [],
   "source": [
    "def comb_iter2(m,n):\n",
    "    l=[]\n",
    "    pre=[1]\n",
    "    while pre!=[]:\n",
    "        if len(pre)==n:\n",
    "            l.append(pre[:])   # copiamos pre para que luego no se pueda modificar el\n",
    "                               # valor añadido a la lista\n",
    "            if pre[n-1] < m:\n",
    "                pre[n-1]+=1\n",
    "            else:          \n",
    "                pre.pop()      \n",
    "                if  pre!=[]:\n",
    "                    pre[-1]+=1\n",
    "        else:   \n",
    "            if pre[-1]==m+len(pre)-n+1:  # dejo que el i-esimo elemento de pre rebase en una\n",
    "                            # unidad su valor máximo, pero en cuanto sucede lo detecto\n",
    "                            # y elimino ese elemento p.e. para m=5 y n=3 el segundo elemento \n",
    "                            #  de pre,  pre[1] dejamos que valga 5+2-3+1=5 y entonces lo quito\n",
    "                pre.pop()\n",
    "                if pre!=[]:\n",
    "                    pre[-1]+=1               \n",
    "            else:\n",
    "                pre.append(pre[-1]+1)\n",
    "    return(l)     "
   ]
  },
  {
   "cell_type": "code",
   "execution_count": 12,
   "metadata": {},
   "outputs": [
    {
     "name": "stdout",
     "output_type": "stream",
     "text": [
      "[[1, 2, 3], [1, 2, 4], [1, 2, 5], [1, 3, 4], [1, 3, 5], [1, 4, 5], [2, 3, 4], [2, 3, 5], [2, 4, 5], [3, 4, 5]]\n"
     ]
    }
   ],
   "source": [
    "print(comb_iter2(5,3))"
   ]
  },
  {
   "cell_type": "markdown",
   "metadata": {},
   "source": [
    "### Generación de variaciones"
   ]
  },
  {
   "cell_type": "markdown",
   "metadata": {},
   "source": [
    "Variaciones recursivo"
   ]
  },
  {
   "cell_type": "code",
   "execution_count": 13,
   "metadata": {
    "scrolled": true
   },
   "outputs": [],
   "source": [
    "def var_rec(m,n,pre,usados,l):  # usados marca si cada valor i está en pre vía usados[i-1]\n",
    "    if n==0:\n",
    "        l.append(pre[:])\n",
    "    else:\n",
    "        for a in range(1,m+1):\n",
    "            if not usados[a-1]:\n",
    "                prenuevo=pre+[a]  # equivalentemente, uso pre en vez de prenuevo y añado abajo\n",
    "                usados[a-1]=True\n",
    "                var_rec(m,n-1,prenuevo,usados,l)\n",
    "                usados[a-1]=False  # aquí añado pre.pop()  "
   ]
  },
  {
   "cell_type": "code",
   "execution_count": 14,
   "metadata": {},
   "outputs": [],
   "source": [
    "def var_llama(m,n):\n",
    "    usados=[False]*m\n",
    "    l=[]\n",
    "    pre=[]\n",
    "    var_rec(m,n,pre,usados,l)\n",
    "    return(l)"
   ]
  },
  {
   "cell_type": "code",
   "execution_count": 15,
   "metadata": {},
   "outputs": [
    {
     "name": "stdout",
     "output_type": "stream",
     "text": [
      "[[1, 2, 3], [1, 2, 4], [1, 2, 5], [1, 3, 2], [1, 3, 4], [1, 3, 5], [1, 4, 2], [1, 4, 3], [1, 4, 5], [1, 5, 2], [1, 5, 3], [1, 5, 4], [2, 1, 3], [2, 1, 4], [2, 1, 5], [2, 3, 1], [2, 3, 4], [2, 3, 5], [2, 4, 1], [2, 4, 3], [2, 4, 5], [2, 5, 1], [2, 5, 3], [2, 5, 4], [3, 1, 2], [3, 1, 4], [3, 1, 5], [3, 2, 1], [3, 2, 4], [3, 2, 5], [3, 4, 1], [3, 4, 2], [3, 4, 5], [3, 5, 1], [3, 5, 2], [3, 5, 4], [4, 1, 2], [4, 1, 3], [4, 1, 5], [4, 2, 1], [4, 2, 3], [4, 2, 5], [4, 3, 1], [4, 3, 2], [4, 3, 5], [4, 5, 1], [4, 5, 2], [4, 5, 3], [5, 1, 2], [5, 1, 3], [5, 1, 4], [5, 2, 1], [5, 2, 3], [5, 2, 4], [5, 3, 1], [5, 3, 2], [5, 3, 4], [5, 4, 1], [5, 4, 2], [5, 4, 3]]\n"
     ]
    }
   ],
   "source": [
    "print(var_llama(5,3))"
   ]
  },
  {
   "cell_type": "markdown",
   "metadata": {},
   "source": [
    "Variaciones iterativo"
   ]
  },
  {
   "cell_type": "code",
   "execution_count": 16,
   "metadata": {},
   "outputs": [],
   "source": [
    "def menor_no_usado(m,usados,j):  # menor elemento mayor que j no usado en usados\n",
    "                                 # devuelve m+1 si no hay ninguno\n",
    "    j+=1\n",
    "    while j <= m and usados[j-1]:\n",
    "        j+=1\n",
    "    return j"
   ]
  },
  {
   "cell_type": "code",
   "execution_count": 17,
   "metadata": {
    "scrolled": true
   },
   "outputs": [],
   "source": [
    "def var_iter(m,n):\n",
    "    usados=[False]*m\n",
    "    l=[]\n",
    "    pre=[1]\n",
    "    usados[0]=True\n",
    "    while pre!=[]:\n",
    "        if len(pre)==n:    \n",
    "            l.append(pre[:])         \n",
    "            enc=False\n",
    "            while not enc and pre!=[]:\n",
    "                usados[pre[-1]-1]=False\n",
    "                sig=menor_no_usado(m,usados,pre[-1])          \n",
    "                if sig <=m:\n",
    "                    enc=True\n",
    "                    pre[-1]=sig\n",
    "                    usados[sig-1]=True\n",
    "                else:\n",
    "                    pre.pop()                          \n",
    "        else: \n",
    "            sig=menor_no_usado(m,usados,0)         \n",
    "            pre.append(sig)\n",
    "            usados[sig-1]=True\n",
    "    return(l)     "
   ]
  },
  {
   "cell_type": "code",
   "execution_count": 18,
   "metadata": {
    "scrolled": true
   },
   "outputs": [
    {
     "name": "stdout",
     "output_type": "stream",
     "text": [
      "[[1, 2, 3], [1, 2, 4], [1, 2, 5], [1, 3, 2], [1, 3, 4], [1, 3, 5], [1, 4, 2], [1, 4, 3], [1, 4, 5], [1, 5, 2], [1, 5, 3], [1, 5, 4], [2, 1, 3], [2, 1, 4], [2, 1, 5], [2, 3, 1], [2, 3, 4], [2, 3, 5], [2, 4, 1], [2, 4, 3], [2, 4, 5], [2, 5, 1], [2, 5, 3], [2, 5, 4], [3, 1, 2], [3, 1, 4], [3, 1, 5], [3, 2, 1], [3, 2, 4], [3, 2, 5], [3, 4, 1], [3, 4, 2], [3, 4, 5], [3, 5, 1], [3, 5, 2], [3, 5, 4], [4, 1, 2], [4, 1, 3], [4, 1, 5], [4, 2, 1], [4, 2, 3], [4, 2, 5], [4, 3, 1], [4, 3, 2], [4, 3, 5], [4, 5, 1], [4, 5, 2], [4, 5, 3], [5, 1, 2], [5, 1, 3], [5, 1, 4], [5, 2, 1], [5, 2, 3], [5, 2, 4], [5, 3, 1], [5, 3, 2], [5, 3, 4], [5, 4, 1], [5, 4, 2], [5, 4, 3]]\n"
     ]
    }
   ],
   "source": [
    "print(var_iter(5,3))"
   ]
  }
 ],
 "metadata": {
  "kernelspec": {
   "display_name": "Python 3",
   "language": "python",
   "name": "python3"
  },
  "language_info": {
   "codemirror_mode": {
    "name": "ipython",
    "version": 3
   },
   "file_extension": ".py",
   "mimetype": "text/x-python",
   "name": "python",
   "nbconvert_exporter": "python",
   "pygments_lexer": "ipython3",
   "version": "3.8.3"
  }
 },
 "nbformat": 4,
 "nbformat_minor": 4
}
