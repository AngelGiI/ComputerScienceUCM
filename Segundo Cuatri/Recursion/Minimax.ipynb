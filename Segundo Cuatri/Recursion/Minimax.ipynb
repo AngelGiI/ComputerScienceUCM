{
 "cells": [
  {
   "cell_type": "code",
   "execution_count": 1,
   "metadata": {},
   "outputs": [],
   "source": [
    "def nim(t,jug):\n",
    "    enc=False\n",
    "    for m in range(1,len(t)):\n",
    "        if t[m]>0:\n",
    "            enc=True\n",
    "    if enc:\n",
    "        mejor=(0,0)\n",
    "        vmj=-1000\n",
    "        for m in range(1,len(t)):\n",
    "            if t[m]>0:              \n",
    "                for p in range(1,m+1):  \n",
    "                    \n",
    "                    t[m]-=1\n",
    "                    t[m-p]+=1\n",
    "                    (v,jg)=nim(t,-jug)\n",
    "                    t[m]+=1\n",
    "                    t[m-p]-=1\n",
    "                    if v*jug > vmj:\n",
    "                        mejor=(m,p)\n",
    "                        vmj=v*jug\n",
    "        vmj=vmj*jug\n",
    "    else:\n",
    "        mejor=(0,0)\n",
    "        vmj=-jug\n",
    "    #print(t,jug,vmj,mejor)\n",
    "    return(vmj,mejor)\n"
   ]
  },
  {
   "cell_type": "code",
   "execution_count": 2,
   "metadata": {},
   "outputs": [],
   "source": [
    "def nim(t,jug):\n",
    "    enc=False\n",
    "    for m in range(1,len(t)):\n",
    "        if t[m]>0:\n",
    "            enc=True\n",
    "    if enc:\n",
    "        mejor=(0,0)\n",
    "        vmj=-1000\n",
    "        for m in range(1,len(t)):\n",
    "            if t[m]>0:              \n",
    "                for p in range(1,m+1):  \n",
    "                    nt=t[:]\n",
    "                    nt[m]-=1\n",
    "                    nt[m-p]+=1\n",
    "                    (v,jg)=nim(nt,-jug)\n",
    "                    if v*jug > vmj:\n",
    "                        mejor=(m,p)\n",
    "                        vmj=v*jug\n",
    "        vmj=vmj*jug\n",
    "    else:\n",
    "        mejor=(0,0)\n",
    "        vmj=-jug\n",
    "    # print(t,jug,vmj,mejor)\n",
    "    return(vmj,mejor)\n"
   ]
  },
  {
   "cell_type": "code",
   "execution_count": 29,
   "metadata": {},
   "outputs": [],
   "source": [
    "def nim(t,jug,npp):\n",
    "    enc=False\n",
    "    for m in range(1,len(t)):\n",
    "        if t[m]>0:\n",
    "            enc=True\n",
    "    if enc:\n",
    "        mejor=(0,0)\n",
    "        vmj=-jug\n",
    "        for m in range(1,len(t)):\n",
    "            if t[m]>0:              \n",
    "                for p in range(1,m+1):  \n",
    "                    nt=t[:]\n",
    "                    nt[m]-=1\n",
    "                    nt[m-p]+=1\n",
    "                    (v,jg)=nim(nt,-jug,npp)\n",
    "                    if v==jug:\n",
    "                        npp[0]+=1\n",
    "                        return(v,(m,p))               \n",
    "        vmj=vmj*jug\n",
    "    else:\n",
    "        mejor=(0,0)\n",
    "        vmj=-jug\n",
    "    # print(t,jug,vmj,mejor)\n",
    "    npp[0]+=1\n",
    "    return(vmj,mejor)\n"
   ]
  },
  {
   "cell_type": "code",
   "execution_count": 30,
   "metadata": {},
   "outputs": [
    {
     "data": {
      "text/plain": [
       "((-1, (1, 1)), [6])"
      ]
     },
     "execution_count": 30,
     "metadata": {},
     "output_type": "execute_result"
    }
   ],
   "source": [
    "npp=[0]\n",
    "(nim([0,5],-1,npp),npp)"
   ]
  },
  {
   "cell_type": "code",
   "execution_count": 31,
   "metadata": {
    "scrolled": true
   },
   "outputs": [
    {
     "data": {
      "text/plain": [
       "((-1, (1, 1)), [2])"
      ]
     },
     "execution_count": 31,
     "metadata": {},
     "output_type": "execute_result"
    }
   ],
   "source": [
    "npp=[0]\n",
    "(nim([4,1],-1,npp),npp)"
   ]
  },
  {
   "cell_type": "code",
   "execution_count": 32,
   "metadata": {},
   "outputs": [
    {
     "data": {
      "text/plain": [
       "((-1, (0, 0)), [99])"
      ]
     },
     "execution_count": 32,
     "metadata": {},
     "output_type": "execute_result"
    }
   ],
   "source": [
    "npp=[0]\n",
    "(nim([0,1,1,1],1,npp),npp)"
   ]
  },
  {
   "cell_type": "code",
   "execution_count": 33,
   "metadata": {},
   "outputs": [
    {
     "data": {
      "text/plain": [
       "((-1, (0, 0)), [1300])"
      ]
     },
     "execution_count": 33,
     "metadata": {},
     "output_type": "execute_result"
    }
   ],
   "source": [
    "npp=[0]\n",
    "(nim([0,0,0,4],1,npp),npp)"
   ]
  },
  {
   "cell_type": "code",
   "execution_count": 26,
   "metadata": {},
   "outputs": [],
   "source": [
    "def nim(t,jug,npp):\n",
    "    enc=False\n",
    "    for m in range(1,len(t)):\n",
    "        if t[m]>0:\n",
    "            enc=True\n",
    "    if enc:\n",
    "        mejor=(0,0)\n",
    "        vmj=-jug\n",
    "        for m in range(len(t)-1,0,-1):\n",
    "            if t[m]>0:              \n",
    "                for p in range(m,0,-1):  \n",
    "                    nt=t[:]\n",
    "                    nt[m]-=1\n",
    "                    nt[m-p]+=1\n",
    "                    (v,jg)=nim(nt,-jug,npp)\n",
    "                    if v==jug:\n",
    "                        npp[0]+=1\n",
    "                        return(v,(m,p))               \n",
    "        vmj=vmj*jug\n",
    "    else:\n",
    "        mejor=(0,0)\n",
    "        vmj=-jug\n",
    "    # print(t,jug,vmj,mejor)\n",
    "    npp[0]+=1\n",
    "    return(vmj,mejor)\n"
   ]
  },
  {
   "cell_type": "code",
   "execution_count": 27,
   "metadata": {},
   "outputs": [
    {
     "data": {
      "text/plain": [
       "((-1, (0, 0)), [41])"
      ]
     },
     "execution_count": 27,
     "metadata": {},
     "output_type": "execute_result"
    }
   ],
   "source": [
    "npp=[0]\n",
    "(nim([0,1,1,1],1,npp),npp)"
   ]
  },
  {
   "cell_type": "code",
   "execution_count": 28,
   "metadata": {},
   "outputs": [
    {
     "data": {
      "text/plain": [
       "((-1, (0, 0)), [124])"
      ]
     },
     "execution_count": 28,
     "metadata": {},
     "output_type": "execute_result"
    }
   ],
   "source": [
    "npp=[0]\n",
    "(nim([0,0,0,4],1,npp),npp)"
   ]
  },
  {
   "cell_type": "code",
   "execution_count": 6,
   "metadata": {},
   "outputs": [
    {
     "data": {
      "text/plain": [
       "(-1, (2, 2))"
      ]
     },
     "execution_count": 6,
     "metadata": {},
     "output_type": "execute_result"
    }
   ],
   "source": [
    "nim([0,0,1],-1)"
   ]
  },
  {
   "cell_type": "code",
   "execution_count": 7,
   "metadata": {},
   "outputs": [
    {
     "data": {
      "text/plain": [
       "(1, (2, 2))"
      ]
     },
     "execution_count": 7,
     "metadata": {},
     "output_type": "execute_result"
    }
   ],
   "source": [
    "nim([0,0,1],1)"
   ]
  },
  {
   "cell_type": "code",
   "execution_count": 8,
   "metadata": {},
   "outputs": [
    {
     "data": {
      "text/plain": [
       "(1, (1, 1))"
      ]
     },
     "execution_count": 8,
     "metadata": {},
     "output_type": "execute_result"
    }
   ],
   "source": [
    "nim([0,2,2],-1)"
   ]
  },
  {
   "cell_type": "code",
   "execution_count": 9,
   "metadata": {},
   "outputs": [
    {
     "data": {
      "text/plain": [
       "(-1, (2, 1))"
      ]
     },
     "execution_count": 9,
     "metadata": {},
     "output_type": "execute_result"
    }
   ],
   "source": [
    "nim([0,0,2],1)"
   ]
  },
  {
   "cell_type": "code",
   "execution_count": 10,
   "metadata": {},
   "outputs": [
    {
     "data": {
      "text/plain": [
       "(1, (2, 1))"
      ]
     },
     "execution_count": 10,
     "metadata": {},
     "output_type": "execute_result"
    }
   ],
   "source": [
    "nim([0,0,2],-1)"
   ]
  },
  {
   "cell_type": "code",
   "execution_count": null,
   "metadata": {},
   "outputs": [],
   "source": []
  }
 ],
 "metadata": {
  "kernelspec": {
   "display_name": "Python 3",
   "language": "python",
   "name": "python3"
  },
  "language_info": {
   "codemirror_mode": {
    "name": "ipython",
    "version": 3
   },
   "file_extension": ".py",
   "mimetype": "text/x-python",
   "name": "python",
   "nbconvert_exporter": "python",
   "pygments_lexer": "ipython3",
   "version": "3.8.3"
  }
 },
 "nbformat": 4,
 "nbformat_minor": 4
}
